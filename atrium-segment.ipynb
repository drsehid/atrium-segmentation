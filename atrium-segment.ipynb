{
 "cells": [
  {
   "cell_type": "code",
   "execution_count": 1,
   "id": "2b672374",
   "metadata": {
    "_cell_guid": "b1076dfc-b9ad-4769-8c92-a6c4dae69d19",
    "_uuid": "8f2839f25d086af736a60e9eeb907d3b93b6e0e5",
    "execution": {
     "iopub.execute_input": "2023-06-04T06:19:44.450859Z",
     "iopub.status.busy": "2023-06-04T06:19:44.450459Z",
     "iopub.status.idle": "2023-06-04T06:19:44.758025Z",
     "shell.execute_reply": "2023-06-04T06:19:44.756982Z"
    },
    "papermill": {
     "duration": 0.315515,
     "end_time": "2023-06-04T06:19:44.760170",
     "exception": false,
     "start_time": "2023-06-04T06:19:44.444655",
     "status": "completed"
    },
    "tags": []
   },
   "outputs": [],
   "source": [
    "import numpy as np\n",
    "import pandas as pd \n",
    "import os\n",
    "from pathlib import Path\n",
    "import nibabel as nib\n",
    "from tqdm.notebook import tqdm\n",
    "import matplotlib.pyplot as plt\n",
    "import tarfile"
   ]
  },
  {
   "cell_type": "code",
   "execution_count": 2,
   "id": "c995890f",
   "metadata": {
    "execution": {
     "iopub.execute_input": "2023-06-04T06:19:44.770065Z",
     "iopub.status.busy": "2023-06-04T06:19:44.769678Z",
     "iopub.status.idle": "2023-06-04T06:19:55.274671Z",
     "shell.execute_reply": "2023-06-04T06:19:55.272860Z"
    },
    "papermill": {
     "duration": 10.512973,
     "end_time": "2023-06-04T06:19:55.277342",
     "exception": false,
     "start_time": "2023-06-04T06:19:44.764369",
     "status": "completed"
    },
    "tags": []
   },
   "outputs": [
    {
     "name": "stdout",
     "output_type": "stream",
     "text": [
      "Collecting gdown\r\n",
      "  Downloading gdown-4.7.1-py3-none-any.whl (15 kB)\r\n",
      "Requirement already satisfied: filelock in /opt/conda/lib/python3.10/site-packages (from gdown) (3.12.0)\r\n",
      "Requirement already satisfied: requests[socks] in /opt/conda/lib/python3.10/site-packages (from gdown) (2.28.2)\r\n",
      "Requirement already satisfied: six in /opt/conda/lib/python3.10/site-packages (from gdown) (1.16.0)\r\n",
      "Requirement already satisfied: tqdm in /opt/conda/lib/python3.10/site-packages (from gdown) (4.64.1)\r\n",
      "Requirement already satisfied: beautifulsoup4 in /opt/conda/lib/python3.10/site-packages (from gdown) (4.12.2)\r\n",
      "Requirement already satisfied: soupsieve>1.2 in /opt/conda/lib/python3.10/site-packages (from beautifulsoup4->gdown) (2.3.2.post1)\r\n",
      "Requirement already satisfied: charset-normalizer<4,>=2 in /opt/conda/lib/python3.10/site-packages (from requests[socks]->gdown) (2.1.1)\r\n",
      "Requirement already satisfied: idna<4,>=2.5 in /opt/conda/lib/python3.10/site-packages (from requests[socks]->gdown) (3.4)\r\n",
      "Requirement already satisfied: urllib3<1.27,>=1.21.1 in /opt/conda/lib/python3.10/site-packages (from requests[socks]->gdown) (1.26.15)\r\n",
      "Requirement already satisfied: certifi>=2017.4.17 in /opt/conda/lib/python3.10/site-packages (from requests[socks]->gdown) (2023.5.7)\r\n",
      "Requirement already satisfied: PySocks!=1.5.7,>=1.5.6 in /opt/conda/lib/python3.10/site-packages (from requests[socks]->gdown) (1.7.1)\r\n",
      "Installing collected packages: gdown\r\n",
      "Successfully installed gdown-4.7.1\r\n",
      "\u001b[33mWARNING: Running pip as the 'root' user can result in broken permissions and conflicting behaviour with the system package manager. It is recommended to use a virtual environment instead: https://pip.pypa.io/warnings/venv\u001b[0m\u001b[33m\r\n",
      "\u001b[0m"
     ]
    }
   ],
   "source": [
    "! pip install gdown"
   ]
  },
  {
   "cell_type": "code",
   "execution_count": 3,
   "id": "25169597",
   "metadata": {
    "execution": {
     "iopub.execute_input": "2023-06-04T06:19:55.287658Z",
     "iopub.status.busy": "2023-06-04T06:19:55.287308Z",
     "iopub.status.idle": "2023-06-04T06:19:58.677429Z",
     "shell.execute_reply": "2023-06-04T06:19:58.676508Z"
    },
    "papermill": {
     "duration": 3.397963,
     "end_time": "2023-06-04T06:19:58.679706",
     "exception": false,
     "start_time": "2023-06-04T06:19:55.281743",
     "status": "completed"
    },
    "tags": []
   },
   "outputs": [
    {
     "name": "stderr",
     "output_type": "stream",
     "text": [
      "Downloading...\n",
      "From (uriginal): https://drive.google.com/uc?id=1zix-XyFhYTjlW4CnAnVrC7g0PvcEAbyi&export=download\n",
      "From (redirected): https://drive.google.com/uc?id=1zix-XyFhYTjlW4CnAnVrC7g0PvcEAbyi&export=download&confirm=t&uuid=e1f94a5f-b7ba-4ef0-9fec-3322362cafea\n",
      "To: /kaggle/working/heart.tar\n",
      "100%|██████████| 456M/456M [00:01<00:00, 237MB/s]\n"
     ]
    },
    {
     "data": {
      "text/plain": [
       "'heart.tar'"
      ]
     },
     "execution_count": 3,
     "metadata": {},
     "output_type": "execute_result"
    }
   ],
   "source": [
    "import gdown\n",
    "\n",
    "url = 'https://drive.google.com/file/d/1zix-XyFhYTjlW4CnAnVrC7g0PvcEAbyi/view?usp=drivesdk'\n",
    "file_id = url.split('/')[-2]\n",
    "direct_download_url = f'https://drive.google.com/uc?id={file_id}&export=download'\n",
    "\n",
    "output = 'heart.tar'\n",
    "gdown.download(direct_download_url, output, quiet=False)"
   ]
  },
  {
   "cell_type": "code",
   "execution_count": 4,
   "id": "78ab32ed",
   "metadata": {
    "execution": {
     "iopub.execute_input": "2023-06-04T06:19:58.693076Z",
     "iopub.status.busy": "2023-06-04T06:19:58.692470Z",
     "iopub.status.idle": "2023-06-04T06:19:59.088951Z",
     "shell.execute_reply": "2023-06-04T06:19:59.088061Z"
    },
    "papermill": {
     "duration": 0.405873,
     "end_time": "2023-06-04T06:19:59.091293",
     "exception": false,
     "start_time": "2023-06-04T06:19:58.685420",
     "status": "completed"
    },
    "tags": []
   },
   "outputs": [],
   "source": [
    "tar_path = \"/kaggle/working/heart.tar\"\n",
    "\n",
    "with tarfile.open(tar_path, 'r') as tar:\n",
    "    tar.extractall('./data')"
   ]
  },
  {
   "cell_type": "code",
   "execution_count": 5,
   "id": "3c3a99ce",
   "metadata": {
    "execution": {
     "iopub.execute_input": "2023-06-04T06:19:59.103572Z",
     "iopub.status.busy": "2023-06-04T06:19:59.103242Z",
     "iopub.status.idle": "2023-06-04T06:19:59.107226Z",
     "shell.execute_reply": "2023-06-04T06:19:59.106420Z"
    },
    "papermill": {
     "duration": 0.012541,
     "end_time": "2023-06-04T06:19:59.109405",
     "exception": false,
     "start_time": "2023-06-04T06:19:59.096864",
     "status": "completed"
    },
    "tags": []
   },
   "outputs": [],
   "source": [
    "root = Path(\"./data/Task02_Heart/imagesTr\")\n",
    "label = Path(\"./data/Task02_Heart/labelsTr\")"
   ]
  },
  {
   "cell_type": "code",
   "execution_count": 6,
   "id": "7f6e9690",
   "metadata": {
    "execution": {
     "iopub.execute_input": "2023-06-04T06:19:59.122839Z",
     "iopub.status.busy": "2023-06-04T06:19:59.122544Z",
     "iopub.status.idle": "2023-06-04T06:19:59.126594Z",
     "shell.execute_reply": "2023-06-04T06:19:59.126012Z"
    },
    "papermill": {
     "duration": 0.011682,
     "end_time": "2023-06-04T06:19:59.128134",
     "exception": false,
     "start_time": "2023-06-04T06:19:59.116452",
     "status": "completed"
    },
    "tags": []
   },
   "outputs": [],
   "source": [
    "def change_img_to_label_path(path):\n",
    "    parts = list(path.parts)\n",
    "    parts[parts.index('imagesTr')] = 'labelsTr'\n",
    "    return Path(*parts)"
   ]
  },
  {
   "cell_type": "code",
   "execution_count": 7,
   "id": "7cae248d",
   "metadata": {
    "execution": {
     "iopub.execute_input": "2023-06-04T06:19:59.140792Z",
     "iopub.status.busy": "2023-06-04T06:19:59.140070Z",
     "iopub.status.idle": "2023-06-04T06:19:59.145296Z",
     "shell.execute_reply": "2023-06-04T06:19:59.144083Z"
    },
    "papermill": {
     "duration": 0.014229,
     "end_time": "2023-06-04T06:19:59.147849",
     "exception": false,
     "start_time": "2023-06-04T06:19:59.133620",
     "status": "completed"
    },
    "tags": []
   },
   "outputs": [],
   "source": [
    "sample_path = list(root.glob(\"la*\"))[0]\n",
    "sample_path_label = change_img_to_label_path(sample_path)"
   ]
  },
  {
   "cell_type": "code",
   "execution_count": 8,
   "id": "1669c1ba",
   "metadata": {
    "execution": {
     "iopub.execute_input": "2023-06-04T06:19:59.160737Z",
     "iopub.status.busy": "2023-06-04T06:19:59.160324Z",
     "iopub.status.idle": "2023-06-04T06:19:59.166004Z",
     "shell.execute_reply": "2023-06-04T06:19:59.165133Z"
    },
    "papermill": {
     "duration": 0.01417,
     "end_time": "2023-06-04T06:19:59.167806",
     "exception": false,
     "start_time": "2023-06-04T06:19:59.153636",
     "status": "completed"
    },
    "tags": []
   },
   "outputs": [
    {
     "data": {
      "text/plain": [
       "(PosixPath('data/Task02_Heart/imagesTr/la_018.nii.gz'),\n",
       " PosixPath('data/Task02_Heart/labelsTr/la_018.nii.gz'))"
      ]
     },
     "execution_count": 8,
     "metadata": {},
     "output_type": "execute_result"
    }
   ],
   "source": [
    "sample_path, sample_path_label"
   ]
  },
  {
   "cell_type": "code",
   "execution_count": 9,
   "id": "70d7874e",
   "metadata": {
    "execution": {
     "iopub.execute_input": "2023-06-04T06:19:59.180706Z",
     "iopub.status.busy": "2023-06-04T06:19:59.180330Z",
     "iopub.status.idle": "2023-06-04T06:19:59.482523Z",
     "shell.execute_reply": "2023-06-04T06:19:59.481828Z"
    },
    "papermill": {
     "duration": 0.311075,
     "end_time": "2023-06-04T06:19:59.484630",
     "exception": false,
     "start_time": "2023-06-04T06:19:59.173555",
     "status": "completed"
    },
    "tags": []
   },
   "outputs": [],
   "source": [
    "data = nib.load(sample_path)\n",
    "label = nib.load(sample_path_label)\n",
    "\n",
    "mri = data.get_fdata()\n",
    "mask = label.get_fdata().astype(np.uint8)"
   ]
  },
  {
   "cell_type": "code",
   "execution_count": 10,
   "id": "874256b3",
   "metadata": {
    "execution": {
     "iopub.execute_input": "2023-06-04T06:19:59.497624Z",
     "iopub.status.busy": "2023-06-04T06:19:59.496801Z",
     "iopub.status.idle": "2023-06-04T06:19:59.516069Z",
     "shell.execute_reply": "2023-06-04T06:19:59.515165Z"
    },
    "papermill": {
     "duration": 0.027968,
     "end_time": "2023-06-04T06:19:59.518246",
     "exception": false,
     "start_time": "2023-06-04T06:19:59.490278",
     "status": "completed"
    },
    "tags": []
   },
   "outputs": [
    {
     "data": {
      "text/plain": [
       "('R', 'A', 'S')"
      ]
     },
     "execution_count": 10,
     "metadata": {},
     "output_type": "execute_result"
    }
   ],
   "source": [
    "# checking the orienation of scans\n",
    "nib.aff2axcodes(data.affine)"
   ]
  },
  {
   "cell_type": "code",
   "execution_count": 11,
   "id": "d5dcaa60",
   "metadata": {
    "execution": {
     "iopub.execute_input": "2023-06-04T06:19:59.530675Z",
     "iopub.status.busy": "2023-06-04T06:19:59.530367Z",
     "iopub.status.idle": "2023-06-04T06:20:08.344890Z",
     "shell.execute_reply": "2023-06-04T06:20:08.343501Z"
    },
    "papermill": {
     "duration": 8.823389,
     "end_time": "2023-06-04T06:20:08.347280",
     "exception": false,
     "start_time": "2023-06-04T06:19:59.523891",
     "status": "completed"
    },
    "tags": []
   },
   "outputs": [
    {
     "name": "stdout",
     "output_type": "stream",
     "text": [
      "Collecting celluloid\r\n",
      "  Downloading celluloid-0.2.0-py3-none-any.whl (5.4 kB)\r\n",
      "Requirement already satisfied: matplotlib in /opt/conda/lib/python3.10/site-packages (from celluloid) (3.6.3)\r\n",
      "Requirement already satisfied: contourpy>=1.0.1 in /opt/conda/lib/python3.10/site-packages (from matplotlib->celluloid) (1.0.7)\r\n",
      "Requirement already satisfied: cycler>=0.10 in /opt/conda/lib/python3.10/site-packages (from matplotlib->celluloid) (0.11.0)\r\n",
      "Requirement already satisfied: fonttools>=4.22.0 in /opt/conda/lib/python3.10/site-packages (from matplotlib->celluloid) (4.39.3)\r\n",
      "Requirement already satisfied: kiwisolver>=1.0.1 in /opt/conda/lib/python3.10/site-packages (from matplotlib->celluloid) (1.4.4)\r\n",
      "Requirement already satisfied: numpy>=1.19 in /opt/conda/lib/python3.10/site-packages (from matplotlib->celluloid) (1.23.5)\r\n",
      "Requirement already satisfied: packaging>=20.0 in /opt/conda/lib/python3.10/site-packages (from matplotlib->celluloid) (21.3)\r\n",
      "Requirement already satisfied: pillow>=6.2.0 in /opt/conda/lib/python3.10/site-packages (from matplotlib->celluloid) (9.5.0)\r\n",
      "Requirement already satisfied: pyparsing>=2.2.1 in /opt/conda/lib/python3.10/site-packages (from matplotlib->celluloid) (3.0.9)\r\n",
      "Requirement already satisfied: python-dateutil>=2.7 in /opt/conda/lib/python3.10/site-packages (from matplotlib->celluloid) (2.8.2)\r\n",
      "Requirement already satisfied: six>=1.5 in /opt/conda/lib/python3.10/site-packages (from python-dateutil>=2.7->matplotlib->celluloid) (1.16.0)\r\n",
      "Installing collected packages: celluloid\r\n",
      "Successfully installed celluloid-0.2.0\r\n",
      "\u001b[33mWARNING: Running pip as the 'root' user can result in broken permissions and conflicting behaviour with the system package manager. It is recommended to use a virtual environment instead: https://pip.pypa.io/warnings/venv\u001b[0m\u001b[33m\r\n",
      "\u001b[0m"
     ]
    }
   ],
   "source": [
    "! pip install celluloid"
   ]
  },
  {
   "cell_type": "code",
   "execution_count": 12,
   "id": "b530dfbc",
   "metadata": {
    "execution": {
     "iopub.execute_input": "2023-06-04T06:20:08.360907Z",
     "iopub.status.busy": "2023-06-04T06:20:08.360562Z",
     "iopub.status.idle": "2023-06-04T06:20:08.372493Z",
     "shell.execute_reply": "2023-06-04T06:20:08.371814Z"
    },
    "papermill": {
     "duration": 0.021259,
     "end_time": "2023-06-04T06:20:08.374703",
     "exception": false,
     "start_time": "2023-06-04T06:20:08.353444",
     "status": "completed"
    },
    "tags": []
   },
   "outputs": [],
   "source": [
    "from celluloid import Camera\n",
    "from IPython.display import HTML"
   ]
  },
  {
   "cell_type": "markdown",
   "id": "34e6a40b",
   "metadata": {
    "execution": {
     "iopub.execute_input": "2023-06-03T19:49:18.669673Z",
     "iopub.status.busy": "2023-06-03T19:49:18.668377Z",
     "iopub.status.idle": "2023-06-03T19:49:42.250580Z",
     "shell.execute_reply": "2023-06-03T19:49:42.249341Z",
     "shell.execute_reply.started": "2023-06-03T19:49:18.669619Z"
    },
    "papermill": {
     "duration": 0.005683,
     "end_time": "2023-06-04T06:20:08.386721",
     "exception": false,
     "start_time": "2023-06-04T06:20:08.381038",
     "status": "completed"
    },
    "tags": []
   },
   "source": [
    "fig = plt.figure()\n",
    "\n",
    "camera = Camera(fig)\n",
    "\n",
    "for i in range(mri.shape[2]):\n",
    "    plt.imshow(mri[:, :, i], cmap='bone')\n",
    "    mask_ = np.ma.masked_where(mask[:, :, i]==0, mask[:, :, i])\n",
    "    plt.imshow(mask_, alpha=0.5)\n",
    "    camera.snap()\n",
    "\n",
    "# animation = camera.animate()\n",
    "# HTML(animation.to_jshtml())"
   ]
  },
  {
   "cell_type": "code",
   "execution_count": 13,
   "id": "288f7a6d",
   "metadata": {
    "execution": {
     "iopub.execute_input": "2023-06-04T06:20:08.400587Z",
     "iopub.status.busy": "2023-06-04T06:20:08.400057Z",
     "iopub.status.idle": "2023-06-04T06:20:08.404452Z",
     "shell.execute_reply": "2023-06-04T06:20:08.403844Z"
    },
    "papermill": {
     "duration": 0.01359,
     "end_time": "2023-06-04T06:20:08.406358",
     "exception": false,
     "start_time": "2023-06-04T06:20:08.392768",
     "status": "completed"
    },
    "tags": []
   },
   "outputs": [],
   "source": [
    "def normalize(full_volume):\n",
    "    mu = full_volume.mean()\n",
    "    std = np.std(full_volume)\n",
    "    normalized = (full_volume - mu) / std\n",
    "    return normalized\n",
    "\n",
    "def standardize(normalized):\n",
    "    standardized = (normalized - normalized.min()) / (normalized.max() - normalized.min())\n",
    "    return standardized"
   ]
  },
  {
   "cell_type": "code",
   "execution_count": 14,
   "id": "68cb1ffd",
   "metadata": {
    "execution": {
     "iopub.execute_input": "2023-06-04T06:20:08.419818Z",
     "iopub.status.busy": "2023-06-04T06:20:08.419503Z",
     "iopub.status.idle": "2023-06-04T06:20:08.425446Z",
     "shell.execute_reply": "2023-06-04T06:20:08.424461Z"
    },
    "papermill": {
     "duration": 0.014694,
     "end_time": "2023-06-04T06:20:08.427228",
     "exception": false,
     "start_time": "2023-06-04T06:20:08.412534",
     "status": "completed"
    },
    "tags": []
   },
   "outputs": [
    {
     "data": {
      "text/plain": [
       "20"
      ]
     },
     "execution_count": 14,
     "metadata": {},
     "output_type": "execute_result"
    }
   ],
   "source": [
    "all_files = list(root.glob(\"la*\"))\n",
    "len(all_files)"
   ]
  },
  {
   "cell_type": "code",
   "execution_count": 15,
   "id": "5861079c",
   "metadata": {
    "execution": {
     "iopub.execute_input": "2023-06-04T06:20:08.440765Z",
     "iopub.status.busy": "2023-06-04T06:20:08.440115Z",
     "iopub.status.idle": "2023-06-04T06:20:15.481851Z",
     "shell.execute_reply": "2023-06-04T06:20:15.480866Z"
    },
    "papermill": {
     "duration": 7.050806,
     "end_time": "2023-06-04T06:20:15.484062",
     "exception": false,
     "start_time": "2023-06-04T06:20:08.433256",
     "status": "completed"
    },
    "tags": []
   },
   "outputs": [
    {
     "data": {
      "application/vnd.jupyter.widget-view+json": {
       "model_id": "c13e7e7876fa4acf8073817676731cd2",
       "version_major": 2,
       "version_minor": 0
      },
      "text/plain": [
       "  0%|          | 0/20 [00:00<?, ?it/s]"
      ]
     },
     "metadata": {},
     "output_type": "display_data"
    }
   ],
   "source": [
    "save_root = Path('Preprocessed')\n",
    "\n",
    "for counter, path_to_mri_data in enumerate(tqdm(all_files)):\n",
    "    path_to_label = change_img_to_label_path(path_to_mri_data)\n",
    "    mri = nib.load(path_to_mri_data)\n",
    "    assert nib.aff2axcodes(data.affine) == ('R', 'A', 'S')\n",
    "    mri_data = mri.get_fdata()\n",
    "    label_data = nib.load(path_to_label).get_fdata().astype(np.uint8)\n",
    "    \n",
    "    mri_data = mri_data[32:-32, 32:-32]\n",
    "    label_data = label_data[32:-32, 32:-32]\n",
    "    \n",
    "    normalized_mri_data = normalize(mri_data)\n",
    "    standardized_mri_data = standardize(normalized_mri_data)\n",
    "    \n",
    "    if counter < 17:\n",
    "        current_path = save_root/\"train\"/str(counter)\n",
    "    else:\n",
    "        current_path = save_root/\"val\"/str(counter)"
   ]
  },
  {
   "cell_type": "code",
   "execution_count": null,
   "id": "c2a92eb2",
   "metadata": {
    "papermill": {
     "duration": 0.005552,
     "end_time": "2023-06-04T06:20:15.495905",
     "exception": false,
     "start_time": "2023-06-04T06:20:15.490353",
     "status": "completed"
    },
    "tags": []
   },
   "outputs": [],
   "source": []
  }
 ],
 "metadata": {
  "kernelspec": {
   "display_name": "Python 3",
   "language": "python",
   "name": "python3"
  },
  "language_info": {
   "codemirror_mode": {
    "name": "ipython",
    "version": 3
   },
   "file_extension": ".py",
   "mimetype": "text/x-python",
   "name": "python",
   "nbconvert_exporter": "python",
   "pygments_lexer": "ipython3",
   "version": "3.10.10"
  },
  "papermill": {
   "default_parameters": {},
   "duration": 40.801442,
   "end_time": "2023-06-04T06:20:16.323213",
   "environment_variables": {},
   "exception": null,
   "input_path": "__notebook__.ipynb",
   "output_path": "__notebook__.ipynb",
   "parameters": {},
   "start_time": "2023-06-04T06:19:35.521771",
   "version": "2.4.0"
  },
  "widgets": {
   "application/vnd.jupyter.widget-state+json": {
    "state": {
     "321d419da3c34e1fa34c1fefe07ab837": {
      "model_module": "@jupyter-widgets/controls",
      "model_module_version": "1.5.0",
      "model_name": "FloatProgressModel",
      "state": {
       "_dom_classes": [],
       "_model_module": "@jupyter-widgets/controls",
       "_model_module_version": "1.5.0",
       "_model_name": "FloatProgressModel",
       "_view_count": null,
       "_view_module": "@jupyter-widgets/controls",
       "_view_module_version": "1.5.0",
       "_view_name": "ProgressView",
       "bar_style": "success",
       "description": "",
       "description_tooltip": null,
       "layout": "IPY_MODEL_e2fbed3f888d4296a0a9d1d5d0c46195",
       "max": 20.0,
       "min": 0.0,
       "orientation": "horizontal",
       "style": "IPY_MODEL_c5c8c3e3bee84cebbe0decc7aa6a47b1",
       "value": 20.0
      }
     },
     "62e81d6d6515497f88a28a1355951685": {
      "model_module": "@jupyter-widgets/controls",
      "model_module_version": "1.5.0",
      "model_name": "HTMLModel",
      "state": {
       "_dom_classes": [],
       "_model_module": "@jupyter-widgets/controls",
       "_model_module_version": "1.5.0",
       "_model_name": "HTMLModel",
       "_view_count": null,
       "_view_module": "@jupyter-widgets/controls",
       "_view_module_version": "1.5.0",
       "_view_name": "HTMLView",
       "description": "",
       "description_tooltip": null,
       "layout": "IPY_MODEL_afe6c3961b85495e97144d9ba0ed6bd8",
       "placeholder": "​",
       "style": "IPY_MODEL_85512e2693b74e369118beed353048a3",
       "value": " 20/20 [00:07&lt;00:00,  2.74it/s]"
      }
     },
     "6a27683fee8143eb9e0c4100612d0863": {
      "model_module": "@jupyter-widgets/base",
      "model_module_version": "1.2.0",
      "model_name": "LayoutModel",
      "state": {
       "_model_module": "@jupyter-widgets/base",
       "_model_module_version": "1.2.0",
       "_model_name": "LayoutModel",
       "_view_count": null,
       "_view_module": "@jupyter-widgets/base",
       "_view_module_version": "1.2.0",
       "_view_name": "LayoutView",
       "align_content": null,
       "align_items": null,
       "align_self": null,
       "border": null,
       "bottom": null,
       "display": null,
       "flex": null,
       "flex_flow": null,
       "grid_area": null,
       "grid_auto_columns": null,
       "grid_auto_flow": null,
       "grid_auto_rows": null,
       "grid_column": null,
       "grid_gap": null,
       "grid_row": null,
       "grid_template_areas": null,
       "grid_template_columns": null,
       "grid_template_rows": null,
       "height": null,
       "justify_content": null,
       "justify_items": null,
       "left": null,
       "margin": null,
       "max_height": null,
       "max_width": null,
       "min_height": null,
       "min_width": null,
       "object_fit": null,
       "object_position": null,
       "order": null,
       "overflow": null,
       "overflow_x": null,
       "overflow_y": null,
       "padding": null,
       "right": null,
       "top": null,
       "visibility": null,
       "width": null
      }
     },
     "85512e2693b74e369118beed353048a3": {
      "model_module": "@jupyter-widgets/controls",
      "model_module_version": "1.5.0",
      "model_name": "DescriptionStyleModel",
      "state": {
       "_model_module": "@jupyter-widgets/controls",
       "_model_module_version": "1.5.0",
       "_model_name": "DescriptionStyleModel",
       "_view_count": null,
       "_view_module": "@jupyter-widgets/base",
       "_view_module_version": "1.2.0",
       "_view_name": "StyleView",
       "description_width": ""
      }
     },
     "afe6c3961b85495e97144d9ba0ed6bd8": {
      "model_module": "@jupyter-widgets/base",
      "model_module_version": "1.2.0",
      "model_name": "LayoutModel",
      "state": {
       "_model_module": "@jupyter-widgets/base",
       "_model_module_version": "1.2.0",
       "_model_name": "LayoutModel",
       "_view_count": null,
       "_view_module": "@jupyter-widgets/base",
       "_view_module_version": "1.2.0",
       "_view_name": "LayoutView",
       "align_content": null,
       "align_items": null,
       "align_self": null,
       "border": null,
       "bottom": null,
       "display": null,
       "flex": null,
       "flex_flow": null,
       "grid_area": null,
       "grid_auto_columns": null,
       "grid_auto_flow": null,
       "grid_auto_rows": null,
       "grid_column": null,
       "grid_gap": null,
       "grid_row": null,
       "grid_template_areas": null,
       "grid_template_columns": null,
       "grid_template_rows": null,
       "height": null,
       "justify_content": null,
       "justify_items": null,
       "left": null,
       "margin": null,
       "max_height": null,
       "max_width": null,
       "min_height": null,
       "min_width": null,
       "object_fit": null,
       "object_position": null,
       "order": null,
       "overflow": null,
       "overflow_x": null,
       "overflow_y": null,
       "padding": null,
       "right": null,
       "top": null,
       "visibility": null,
       "width": null
      }
     },
     "c13e7e7876fa4acf8073817676731cd2": {
      "model_module": "@jupyter-widgets/controls",
      "model_module_version": "1.5.0",
      "model_name": "HBoxModel",
      "state": {
       "_dom_classes": [],
       "_model_module": "@jupyter-widgets/controls",
       "_model_module_version": "1.5.0",
       "_model_name": "HBoxModel",
       "_view_count": null,
       "_view_module": "@jupyter-widgets/controls",
       "_view_module_version": "1.5.0",
       "_view_name": "HBoxView",
       "box_style": "",
       "children": [
        "IPY_MODEL_e3a36f47e2a54cbe93e135bd7330d65b",
        "IPY_MODEL_321d419da3c34e1fa34c1fefe07ab837",
        "IPY_MODEL_62e81d6d6515497f88a28a1355951685"
       ],
       "layout": "IPY_MODEL_ee456e0e9d924f398790a670b202935f"
      }
     },
     "c5c8c3e3bee84cebbe0decc7aa6a47b1": {
      "model_module": "@jupyter-widgets/controls",
      "model_module_version": "1.5.0",
      "model_name": "ProgressStyleModel",
      "state": {
       "_model_module": "@jupyter-widgets/controls",
       "_model_module_version": "1.5.0",
       "_model_name": "ProgressStyleModel",
       "_view_count": null,
       "_view_module": "@jupyter-widgets/base",
       "_view_module_version": "1.2.0",
       "_view_name": "StyleView",
       "bar_color": null,
       "description_width": ""
      }
     },
     "e2fbed3f888d4296a0a9d1d5d0c46195": {
      "model_module": "@jupyter-widgets/base",
      "model_module_version": "1.2.0",
      "model_name": "LayoutModel",
      "state": {
       "_model_module": "@jupyter-widgets/base",
       "_model_module_version": "1.2.0",
       "_model_name": "LayoutModel",
       "_view_count": null,
       "_view_module": "@jupyter-widgets/base",
       "_view_module_version": "1.2.0",
       "_view_name": "LayoutView",
       "align_content": null,
       "align_items": null,
       "align_self": null,
       "border": null,
       "bottom": null,
       "display": null,
       "flex": null,
       "flex_flow": null,
       "grid_area": null,
       "grid_auto_columns": null,
       "grid_auto_flow": null,
       "grid_auto_rows": null,
       "grid_column": null,
       "grid_gap": null,
       "grid_row": null,
       "grid_template_areas": null,
       "grid_template_columns": null,
       "grid_template_rows": null,
       "height": null,
       "justify_content": null,
       "justify_items": null,
       "left": null,
       "margin": null,
       "max_height": null,
       "max_width": null,
       "min_height": null,
       "min_width": null,
       "object_fit": null,
       "object_position": null,
       "order": null,
       "overflow": null,
       "overflow_x": null,
       "overflow_y": null,
       "padding": null,
       "right": null,
       "top": null,
       "visibility": null,
       "width": null
      }
     },
     "e3a36f47e2a54cbe93e135bd7330d65b": {
      "model_module": "@jupyter-widgets/controls",
      "model_module_version": "1.5.0",
      "model_name": "HTMLModel",
      "state": {
       "_dom_classes": [],
       "_model_module": "@jupyter-widgets/controls",
       "_model_module_version": "1.5.0",
       "_model_name": "HTMLModel",
       "_view_count": null,
       "_view_module": "@jupyter-widgets/controls",
       "_view_module_version": "1.5.0",
       "_view_name": "HTMLView",
       "description": "",
       "description_tooltip": null,
       "layout": "IPY_MODEL_6a27683fee8143eb9e0c4100612d0863",
       "placeholder": "​",
       "style": "IPY_MODEL_ffb60275b6ee4177a83a76d5bc4a5892",
       "value": "100%"
      }
     },
     "ee456e0e9d924f398790a670b202935f": {
      "model_module": "@jupyter-widgets/base",
      "model_module_version": "1.2.0",
      "model_name": "LayoutModel",
      "state": {
       "_model_module": "@jupyter-widgets/base",
       "_model_module_version": "1.2.0",
       "_model_name": "LayoutModel",
       "_view_count": null,
       "_view_module": "@jupyter-widgets/base",
       "_view_module_version": "1.2.0",
       "_view_name": "LayoutView",
       "align_content": null,
       "align_items": null,
       "align_self": null,
       "border": null,
       "bottom": null,
       "display": null,
       "flex": null,
       "flex_flow": null,
       "grid_area": null,
       "grid_auto_columns": null,
       "grid_auto_flow": null,
       "grid_auto_rows": null,
       "grid_column": null,
       "grid_gap": null,
       "grid_row": null,
       "grid_template_areas": null,
       "grid_template_columns": null,
       "grid_template_rows": null,
       "height": null,
       "justify_content": null,
       "justify_items": null,
       "left": null,
       "margin": null,
       "max_height": null,
       "max_width": null,
       "min_height": null,
       "min_width": null,
       "object_fit": null,
       "object_position": null,
       "order": null,
       "overflow": null,
       "overflow_x": null,
       "overflow_y": null,
       "padding": null,
       "right": null,
       "top": null,
       "visibility": null,
       "width": null
      }
     },
     "ffb60275b6ee4177a83a76d5bc4a5892": {
      "model_module": "@jupyter-widgets/controls",
      "model_module_version": "1.5.0",
      "model_name": "DescriptionStyleModel",
      "state": {
       "_model_module": "@jupyter-widgets/controls",
       "_model_module_version": "1.5.0",
       "_model_name": "DescriptionStyleModel",
       "_view_count": null,
       "_view_module": "@jupyter-widgets/base",
       "_view_module_version": "1.2.0",
       "_view_name": "StyleView",
       "description_width": ""
      }
     }
    },
    "version_major": 2,
    "version_minor": 0
   }
  }
 },
 "nbformat": 4,
 "nbformat_minor": 5
}
